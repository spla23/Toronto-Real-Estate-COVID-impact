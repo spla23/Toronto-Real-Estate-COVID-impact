{
 "cells": [
  {
   "cell_type": "code",
   "execution_count": 8,
   "metadata": {
    "jupyter": {
     "source_hidden": true
    }
   },
   "outputs": [],
   "source": [
    "# Toronto real estate and COVID-19: Impact on population and housing trends in 2020\n",
    "## Background\n",
    "\n",
    "# As the COVID-19 pandemic continues, the housing market around Toronto has managed to remain robust during an unprecedented and unpredictable time.\n",
    "\n",
    "# For homebuyers, it can be difficult to decide when the right time to buy a property given the uncertainty.\n",
    "\n",
    "# Before the pandemic, housing trends were fueled by immigration, a robust job market and low interest rates on mortgages. \n",
    "# There has been a housing shortage in Toronto stretching back decades. \n",
    "\n",
    "# Yet, proprty prices remain high, even with uncertainty and higher unemployment. Soper told Daily Hive why property prices remain high, the key housing trends, and what first-time buyers should look for.\n",
    "\n",
    "# Demand in Q4 2019 and Q1 202 were at record levels But then the pandemic came, and everything stopped - durnig the all important spring housing market.  Interest rates were set to historic lows by the Bank of Canada\n",
    "\n",
    "# Money is now cheaper than it has ever been, inventory and the competition was low. Within six to eight weeks, home prices backed up\n",
    "\n",
    "# Notably\n",
    "# Canadian home sales hit all-time record in December 2020\n",
    "# Toronto’s rental vacancy rate hits 50-year high\n",
    "# Demand in urban centres remains high, despite movement to suburbs \n",
    "\n",
    "\n",
    "# Research shows Millenials prefer to own a condo in the city. And older generations want walkout properties, which tend to be farther away from the city core\n",
    "\n",
    "# Advice\n",
    "# Housing is not like stocks, it can be volatile but generally trends steadily up over time and has utility\n",
    "# Mortgage rates are so low right now, , so it’s not a bad time to purchase a home.\n",
    "#think long-term and not in reaction to the pandemic. \n",
    "#The notion that there is a mass migration to the suburbs is “overblown,” and w\n",
    "#hen the pandemic is over in the near future, people will prefer the vibrancy and pace of urban living, with a subset wanting the slower pace of suburban living.\n",
    "#look at their neighbourhoods with a post-pandemic eye. It’s a longer-term decision than the health crisis.”\n",
    "\n",
    "#Projections\n",
    "\n",
    "#as more people work from home and want more private space, there will be less open concept layouts. \n",
    "#“smart homes” with 5G network, and with people wanting higher and greater access to faster internet.\n",
    "#demand for housing will continue to grow without a matching level of supply\n",
    "#Canada is a desirable place to live and the GTA is the most desirable place to live in Canada\n",
    "\n",
    "\n",
    "#The goal of this dashboard is to provide charts, maps, and interactive visualizations to explore real estate, COVID and population data to examine the impact of COVID on GTA Real Estate\n",
    "\n",
    "## Packages Used\n",
    "\n",
    "#* Plotly Express\n",
    "#* Hvplot\n",
    "#* Panel - Holoviz (For creating Dashboard)\n",
    "#* Mapbox Token\n",
    "\n",
    "\n",
    "## Files and APIs"
   ]
  },
  {
   "cell_type": "code",
   "execution_count": 7,
   "metadata": {},
   "outputs": [],
   "source": [
    "# initial imports\n",
    "import os\n",
    "import pandas as pd\n",
    "import matplotlib.pyplot as plt\n",
    "import hvplot.pandas\n",
    "import panel as pn\n",
    "#import plotly.express as px\n",
    "from pathlib import Path\n",
    "#from dotenv import load_dotenv\n",
    "\n",
    "# Initialize the Panel Extensions (for Plotly)\n",
    "#pn.extension('plotly')\n"
   ]
  },
  {
   "cell_type": "code",
   "execution_count": 9,
   "metadata": {
    "jupyter": {
     "source_hidden": true
    }
   },
   "outputs": [],
   "source": [
    "# Ali - Display the benchmark price of a composite property by CMA per Month (line graph) from Jan 2015 to Dec 2020\n",
    "# CMAs: Toronto, Mississauga-Brampton, Oakville-Milton, Hamilton-Burlington, Cambridge, Kitchen-Waterloo, Guelph - will require csvs of each CMA joined by date"
   ]
  },
  {
   "cell_type": "code",
   "execution_count": 10,
   "metadata": {
    "jupyter": {
     "source_hidden": true
    }
   },
   "outputs": [],
   "source": [
    "# Ali - Add a filter to change the view from BP to HPI of a composite property by CMA per Month (line graph) from Jan 2015 to Dec 2020\n",
    "# CMAs: Toronto, Mississauga-Brampton, Oakville-Milton, Hamilton-Burlington, Cambridge, Kitchen-Waterloo, Guelph"
   ]
  },
  {
   "cell_type": "code",
   "execution_count": 9,
   "metadata": {},
   "outputs": [
    {
     "name": "stdout",
     "output_type": "stream",
     "text": [
      "{\n",
      "    \"text\": \"42 is the number of museums in Amsterdam (Netherlands has the highest concentration of museums in the world).\",\n",
      "    \"number\": 42,\n",
      "    \"found\": true,\n",
      "    \"type\": \"trivia\"\n",
      "}\n"
     ]
    },
    {
     "data": {
      "text/plain": [
       "'42 is the number of museums in Amsterdam (Netherlands has the highest concentration of museums in the world).'"
      ]
     },
     "execution_count": 9,
     "metadata": {},
     "output_type": "execute_result"
    }
   ],
   "source": [
    "# Mel - Display the total COVID infections by CMA per Month (bar graph) from Jan 2015 to Dec 2020\n",
    "# CMAs: Toronto, Mississauga-Brampton, Oakville-Milton, Hamilton-Burlington, Cambridge, Kitchen-Waterloo, Guelph\n",
    "import requests\n",
    "import json\n",
    "\n",
    "# Create parameterized url\n",
    "request_url = \"http://numbersapi.com/42?json\"\n",
    "\n",
    "# Submit request and format output\n",
    "response_data = requests.get(request_url).json()\n",
    "print(json.dumps(response_data, indent=4))\n",
    "\n",
    "# Select fact \n",
    "response_data['text']"
   ]
  },
  {
   "cell_type": "code",
   "execution_count": 28,
   "metadata": {},
   "outputs": [
    {
     "name": "stdout",
     "output_type": "stream",
     "text": [
      "{\n",
      "     \"help\": \"https://data.ontario.ca/api/3/action/help_show?name=datastore_search\",\n",
      "     \"success\": true,\n",
      "     \"result\": {\n",
      "          \"include_total\": true,\n",
      "          \"resource_id\": \"37cfeca2-059e-4a5f-a228-249f6ab1b771\",\n",
      "          \"fields\": [\n",
      "               {\n",
      "                    \"type\": \"int\",\n",
      "                    \"id\": \"_id\"\n",
      "               },\n",
      "               {\n",
      "                    \"type\": \"timestamp\",\n",
      "                    \"id\": \"date\"\n",
      "               },\n",
      "               {\n",
      "                    \"type\": \"text\",\n",
      "                    \"id\": \"cumulative_ios_downloads_canada\"\n",
      "               },\n",
      "               {\n",
      "                    \"type\": \"text\",\n",
      "                    \"id\": \"cumulative_android_downloads_canada\"\n",
      "               },\n",
      "               {\n",
      "                    \"type\": \"text\",\n",
      "                    \"id\": \"cumulative_total_downloads_canada\"\n",
      "               },\n",
      "               {\n",
      "                    \"type\": \"text\",\n",
      "                    \"id\": \"daily_ios_downloads_canada\"\n",
      "               },\n",
      "               {\n",
      "                    \"type\": \"text\",\n",
      "                    \"id\": \"daily_android_downloads_canada\"\n",
      "               },\n",
      "               {\n",
      "                    \"type\": \"text\",\n",
      "                    \"id\": \"daily_total_downloads_canada\"\n",
      "               }\n",
      "          ],\n",
      "          \"records_format\": \"objects\",\n",
      "          \"records\": [\n",
      "               {\n",
      "                    \"_id\": 1,\n",
      "                    \"date\": \"2020-07-30T00:00:00\",\n",
      "                    \"cumulative_ios_downloads_canada\": \"189\",\n",
      "                    \"cumulative_android_downloads_canada\": \"1,909\",\n",
      "                    \"cumulative_total_downloads_canada\": \"2,098\",\n",
      "                    \"daily_ios_downloads_canada\": \"189\",\n",
      "                    \"daily_android_downloads_canada\": \"1,909\",\n",
      "                    \"daily_total_downloads_canada\": \"2,098\"\n",
      "               },\n",
      "               {\n",
      "                    \"_id\": 2,\n",
      "                    \"date\": \"2020-07-31T00:00:00\",\n",
      "                    \"cumulative_ios_downloads_canada\": \"326,519\",\n",
      "                    \"cumulative_android_downloads_canada\": \"262,575\",\n",
      "                    \"cumulative_total_downloads_canada\": \"589,094\",\n",
      "                    \"daily_ios_downloads_canada\": \"326,330\",\n",
      "                    \"daily_android_downloads_canada\": \"260,666\",\n",
      "                    \"daily_total_downloads_canada\": \"586,996\"\n",
      "               },\n",
      "               {\n",
      "                    \"_id\": 3,\n",
      "                    \"date\": \"2020-08-01T00:00:00\",\n",
      "                    \"cumulative_ios_downloads_canada\": \"630,961\",\n",
      "                    \"cumulative_android_downloads_canada\": \"386,470\",\n",
      "                    \"cumulative_total_downloads_canada\": \"1,017,431\",\n",
      "                    \"daily_ios_downloads_canada\": \"304,442\",\n",
      "                    \"daily_android_downloads_canada\": \"123,895\",\n",
      "                    \"daily_total_downloads_canada\": \"428,337\"\n",
      "               },\n",
      "               {\n",
      "                    \"_id\": 4,\n",
      "                    \"date\": \"2020-08-02T00:00:00\",\n",
      "                    \"cumulative_ios_downloads_canada\": \"759,283\",\n",
      "                    \"cumulative_android_downloads_canada\": \"436,716\",\n",
      "                    \"cumulative_total_downloads_canada\": \"1,195,999\",\n",
      "                    \"daily_ios_downloads_canada\": \"128,322\",\n",
      "                    \"daily_android_downloads_canada\": \"50,246\",\n",
      "                    \"daily_total_downloads_canada\": \"178,568\"\n",
      "               },\n",
      "               {\n",
      "                    \"_id\": 5,\n",
      "                    \"date\": \"2020-08-03T00:00:00\",\n",
      "                    \"cumulative_ios_downloads_canada\": \"835,095\",\n",
      "                    \"cumulative_android_downloads_canada\": \"483,562\",\n",
      "                    \"cumulative_total_downloads_canada\": \"1,318,657\",\n",
      "                    \"daily_ios_downloads_canada\": \"75,812\",\n",
      "                    \"daily_android_downloads_canada\": \"46,846\",\n",
      "                    \"daily_total_downloads_canada\": \"122,658\"\n",
      "               }\n",
      "          ],\n",
      "          \"limit\": 5,\n",
      "          \"_links\": {\n",
      "               \"start\": \"/api/3/action/datastore_search?limit=5&resource_id=37cfeca2-059e-4a5f-a228-249f6ab1b771\",\n",
      "               \"next\": \"/api/3/action/datastore_search?offset=5&limit=5&resource_id=37cfeca2-059e-4a5f-a228-249f6ab1b771\"\n",
      "          },\n",
      "          \"total\": 183\n",
      "     }\n",
      "}\n"
     ]
    }
   ],
   "source": [
    "# initial imports\n",
    "import requests\n",
    "import json\n",
    "import urllib\n",
    "\n",
    "# Create parameterized url for COVID app downloads by CMA\n",
    "request_url = \"https://data.ontario.ca/api/3/action/datastore_search?resource_id=37cfeca2-059e-4a5f-a228-249f6ab1b771&limit=5\"\n",
    "\n",
    "# Submit request and format output\n",
    "response_data = requests.get(request_url).json()\n",
    "print(json.dumps(response_data, indent = 5))"
   ]
  },
  {
   "cell_type": "code",
   "execution_count": 27,
   "metadata": {},
   "outputs": [
    {
     "data": {
      "text/html": [
       "<div>\n",
       "<style scoped>\n",
       "    .dataframe tbody tr th:only-of-type {\n",
       "        vertical-align: middle;\n",
       "    }\n",
       "\n",
       "    .dataframe tbody tr th {\n",
       "        vertical-align: top;\n",
       "    }\n",
       "\n",
       "    .dataframe thead th {\n",
       "        text-align: right;\n",
       "    }\n",
       "</style>\n",
       "<table border=\"1\" class=\"dataframe\">\n",
       "  <thead>\n",
       "    <tr style=\"text-align: right;\">\n",
       "      <th></th>\n",
       "    </tr>\n",
       "  </thead>\n",
       "  <tbody>\n",
       "  </tbody>\n",
       "</table>\n",
       "</div>"
      ],
      "text/plain": [
       "Empty DataFrame\n",
       "Columns: []\n",
       "Index: []"
      ]
     },
     "execution_count": 27,
     "metadata": {},
     "output_type": "execute_result"
    }
   ],
   "source": []
  },
  {
   "cell_type": "code",
   "execution_count": null,
   "metadata": {},
   "outputs": [],
   "source": [
    "    "
   ]
  },
  {
   "cell_type": "code",
   "execution_count": null,
   "metadata": {},
   "outputs": [],
   "source": []
  },
  {
   "cell_type": "code",
   "execution_count": null,
   "metadata": {},
   "outputs": [],
   "source": []
  },
  {
   "cell_type": "code",
   "execution_count": null,
   "metadata": {},
   "outputs": [],
   "source": []
  },
  {
   "cell_type": "code",
   "execution_count": null,
   "metadata": {},
   "outputs": [],
   "source": []
  },
  {
   "cell_type": "code",
   "execution_count": 10,
   "metadata": {},
   "outputs": [],
   "source": [
    "# Mel - Add a filter to change the view to infection rate by CMA per Month (bar graph) from Jan 2015 to Dec 2020\n",
    "# CMAs: Toronto, Mississauga-Brampton, Oakville-Milton, Hamilton-Burlington, Cambridge, Kitchen-Waterloo, Guelph"
   ]
  },
  {
   "cell_type": "code",
   "execution_count": 11,
   "metadata": {},
   "outputs": [],
   "source": [
    "# ? - Display the total population by CMA per Month (geo) from Jan 2015 to Dec 2020\n",
    "# CMAs: Toronto, Mississauga-Brampton, Oakville-Milton, Hamilton-Burlington, Cambridge, Kitchen-Waterloo, Guelph"
   ]
  },
  {
   "cell_type": "code",
   "execution_count": 12,
   "metadata": {},
   "outputs": [],
   "source": [
    "# ? - Add a filter to change the view to net migration by CMA per Month (geo) from Jan 2015 to Dec 2020\n",
    "# CMAs: Toronto, Mississauga-Brampton, Oakville-Milton, Hamilton-Burlington, Cambridge, Kitchen-Waterloo, Guelph"
   ]
  },
  {
   "cell_type": "code",
   "execution_count": 13,
   "metadata": {},
   "outputs": [],
   "source": [
    "# ? - Dislay COVID, Rbenchmark price, and population tables total COVID infections, joined by date (x axis)\n"
   ]
  }
 ],
 "metadata": {
  "kernelspec": {
   "display_name": "Python [conda env:pyvizenv]",
   "language": "python",
   "name": "conda-env-pyvizenv-py"
  },
  "language_info": {
   "codemirror_mode": {
    "name": "ipython",
    "version": 3
   },
   "file_extension": ".py",
   "mimetype": "text/x-python",
   "name": "python",
   "nbconvert_exporter": "python",
   "pygments_lexer": "ipython3",
   "version": "3.7.9"
  }
 },
 "nbformat": 4,
 "nbformat_minor": 4
}
