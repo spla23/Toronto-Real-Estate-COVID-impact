{
 "cells": [
  {
   "cell_type": "code",
   "execution_count": 8,
   "metadata": {},
   "outputs": [],
   "source": [
    "# Toronto real estate and COVID-19: Impact on population and housing trends in 2020\n",
    "## Background\n",
    "\n",
    "# As the COVID-19 pandemic continues, the housing market around Toronto has managed to remain robust during an unprecedented and unpredictable time.\n",
    "\n",
    "# For homebuyers, it can be difficult to decide when the right time to buy a property given the uncertainty.\n",
    "\n",
    "# Before the pandemic, housing trends were fueled by immigration, a robust job market and low interest rates on mortgages. \n",
    "# There has been a housing shortage in Toronto stretching back decades. \n",
    "\n",
    "# Yet, proprty prices remain high, even with uncertainty and higher unemployment. Soper told Daily Hive why property prices remain high, the key housing trends, and what first-time buyers should look for.\n",
    "\n",
    "# Demand in Q4 2019 and Q1 202 were at record levels But then the pandemic came, and everything stopped - durnig the all important spring housing market.  Interest rates were set to historic lows by the Bank of Canada\n",
    "\n",
    "# Money is now cheaper than it has ever been, inventory and the competition was low. Within six to eight weeks, home prices backed up\n",
    "\n",
    "# Notably\n",
    "# Canadian home sales hit all-time record in December 2020\n",
    "# Toronto’s rental vacancy rate hits 50-year high\n",
    "# Demand in urban centres remains high, despite movement to suburbs \n",
    "\n",
    "\n",
    "# Research shows Millenials prefer to own a condo in the city. And older generations want walkout properties, which tend to be farther away from the city core\n",
    "\n",
    "# Advice\n",
    "# Housing is not like stocks, it can be volatile but generally trends steadily up over time and has utility\n",
    "# Mortgage rates are so low right now, , so it’s not a bad time to purchase a home.\n",
    "#think long-term and not in reaction to the pandemic. \n",
    "#The notion that there is a mass migration to the suburbs is “overblown,” and w\n",
    "#hen the pandemic is over in the near future, people will prefer the vibrancy and pace of urban living, with a subset wanting the slower pace of suburban living.\n",
    "#look at their neighbourhoods with a post-pandemic eye. It’s a longer-term decision than the health crisis.”\n",
    "\n",
    "#Projections\n",
    "\n",
    "#as more people work from home and want more private space, there will be less open concept layouts. \n",
    "#“smart homes” with 5G network, and with people wanting higher and greater access to faster internet.\n",
    "#demand for housing will continue to grow without a matching level of supply\n",
    "#Canada is a desirable place to live and the GTA is the most desirable place to live in Canada\n",
    "\n",
    "\n",
    "#The goal of this dashboard is to provide charts, maps, and interactive visualizations to explore real estate, COVID and population data to examine the impact of COVID on GTA Real Estate\n",
    "\n",
    "## Packages Used\n",
    "\n",
    "#* Plotly Express\n",
    "#* Hvplot\n",
    "#* Panel - Holoviz (For creating Dashboard)\n",
    "#* Mapbox Token\n",
    "\n",
    "\n",
    "## Files and APIs"
   ]
  },
  {
   "cell_type": "code",
   "execution_count": null,
   "metadata": {},
   "outputs": [],
   "source": [
    "# Imports"
   ]
  },
  {
   "cell_type": "code",
   "execution_count": 9,
   "metadata": {},
   "outputs": [],
   "source": [
    "# Ali - Display the benchmark price of a composite property by CMA per Month (line graph) from Jan 2015 to Dec 2020\n",
    "# CMAs: Toronto, Mississauga-Brampton, Oakville-Milton, Hamilton-Burlington, Cambridge, Kitchen-Waterloo, Guelph - will require csvs of each CMA joined by date"
   ]
  },
  {
   "cell_type": "code",
   "execution_count": 10,
   "metadata": {},
   "outputs": [],
   "source": [
    "# Ali - Add a filter to change the view from BP to HPI of a composite property by CMA per Month (line graph) from Jan 2015 to Dec 2020\n",
    "# CMAs: Toronto, Mississauga-Brampton, Oakville-Milton, Hamilton-Burlington, Cambridge, Kitchen-Waterloo, Guelph"
   ]
  },
  {
   "cell_type": "code",
   "execution_count": 11,
   "metadata": {},
   "outputs": [],
   "source": [
    "# Mel - Display the total COVID infections by CMA per Month (bar graph) from Jan 2015 to Dec 2020\n",
    "# CMAs: Toronto, Mississauga-Brampton, Oakville-Milton, Hamilton-Burlington, Cambridge, Kitchen-Waterloo, Guelph"
   ]
  },
  {
   "cell_type": "code",
   "execution_count": 12,
   "metadata": {},
   "outputs": [],
   "source": [
    "# Mel - Add a filter to change the view to infection rate by CMA per Month (bar graph) from Jan 2015 to Dec 2020\n",
    "# CMAs: Toronto, Mississauga-Brampton, Oakville-Milton, Hamilton-Burlington, Cambridge, Kitchen-Waterloo, Guelph"
   ]
  },
  {
   "cell_type": "code",
   "execution_count": 13,
   "metadata": {},
   "outputs": [],
   "source": [
    "# ? - Display the total population by CMA per Month (geo) from Jan 2015 to Dec 2020\n",
    "# CMAs: Toronto, Mississauga-Brampton, Oakville-Milton, Hamilton-Burlington, Cambridge, Kitchen-Waterloo, Guelph"
   ]
  },
  {
   "cell_type": "code",
   "execution_count": 15,
   "metadata": {},
   "outputs": [],
   "source": [
    "# ? - Add a filter to change the view to net migration by CMA per Month (geo) from Jan 2015 to Dec 2020\n",
    "# CMAs: Toronto, Mississauga-Brampton, Oakville-Milton, Hamilton-Burlington, Cambridge, Kitchen-Waterloo, Guelph"
   ]
  },
  {
   "cell_type": "code",
   "execution_count": 16,
   "metadata": {},
   "outputs": [],
   "source": [
    "# ? - Dislay COVID, Rbenchmark price, and population tables total COVID infections, joined by date (x axis)\n"
   ]
  }
 ],
 "metadata": {
  "kernelspec": {
   "display_name": "Python [conda env:pyvizenv]",
   "language": "python",
   "name": "conda-env-pyvizenv-py"
  },
  "language_info": {
   "codemirror_mode": {
    "name": "ipython",
    "version": 3
   },
   "file_extension": ".py",
   "mimetype": "text/x-python",
   "name": "python",
   "nbconvert_exporter": "python",
   "pygments_lexer": "ipython3",
   "version": "3.7.9"
  }
 },
 "nbformat": 4,
 "nbformat_minor": 4
}
